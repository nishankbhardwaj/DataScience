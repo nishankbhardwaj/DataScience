{
 "cells": [
  {
   "cell_type": "code",
   "execution_count": 5,
   "metadata": {
    "collapsed": true
   },
   "outputs": [],
   "source": [
    "import requests"
   ]
  },
  {
   "cell_type": "code",
   "execution_count": 6,
   "metadata": {
    "collapsed": true
   },
   "outputs": [],
   "source": [
    "req = requests.get(\"http://www.imdb.com/chart/top\")"
   ]
  },
  {
   "cell_type": "code",
   "execution_count": 8,
   "metadata": {
    "collapsed": true
   },
   "outputs": [],
   "source": [
    "from bs4 import BeautifulSoup"
   ]
  },
  {
   "cell_type": "code",
   "execution_count": 9,
   "metadata": {
    "collapsed": true
   },
   "outputs": [],
   "source": [
    "soup = BeautifulSoup(req.text,'html.parser')"
   ]
  },
  {
   "cell_type": "code",
   "execution_count": 10,
   "metadata": {
    "collapsed": true
   },
   "outputs": [],
   "source": [
    "div = soup.find('div', attrs={'class': 'lister'})"
   ]
  },
  {
   "cell_type": "code",
   "execution_count": 11,
   "metadata": {
    "collapsed": false
   },
   "outputs": [],
   "source": [
    "table = div.find_all('table')"
   ]
  },
  {
   "cell_type": "code",
   "execution_count": 13,
   "metadata": {
    "collapsed": true
   },
   "outputs": [],
   "source": [
    "tables = soup.find_all('table', attrs={'class': 'chart full-width'})"
   ]
  },
  {
   "cell_type": "code",
   "execution_count": 14,
   "metadata": {
    "collapsed": true
   },
   "outputs": [],
   "source": [
    "table=div.find('table')"
   ]
  },
  {
   "cell_type": "code",
   "execution_count": 15,
   "metadata": {
    "collapsed": false
   },
   "outputs": [
    {
     "data": {
      "text/plain": [
       "[<th></th>,\n",
       " <th>Rank &amp; Title</th>,\n",
       " <th>IMDb Rating</th>,\n",
       " <th>Your Rating</th>,\n",
       " <th></th>]"
      ]
     },
     "execution_count": 15,
     "metadata": {},
     "output_type": "execute_result"
    }
   ],
   "source": [
    "table.find_all('th')"
   ]
  },
  {
   "cell_type": "code",
   "execution_count": 17,
   "metadata": {
    "collapsed": true
   },
   "outputs": [],
   "source": [
    "tableBody = table.find('tbody')"
   ]
  },
  {
   "cell_type": "code",
   "execution_count": 19,
   "metadata": {
    "collapsed": false
   },
   "outputs": [],
   "source": [
    "t = tableBody.find_all('td', attrs={'class': 'titleColumn'})"
   ]
  },
  {
   "cell_type": "code",
   "execution_count": 59,
   "metadata": {
    "collapsed": false
   },
   "outputs": [],
   "source": [
    "table1 = tableBody.find_all('tr')"
   ]
  },
  {
   "cell_type": "code",
   "execution_count": 70,
   "metadata": {
    "collapsed": false
   },
   "outputs": [
    {
     "name": "stdout",
     "output_type": "stream",
     "text": [
      "[{'IMDb Rating': '9.2', 'Movie': 'The Shawshank Redemption', 'Year': '1994'}, {'IMDb Rating': '9.2', 'Movie': 'The Godfather', 'Year': '1972'}, {'IMDb Rating': '9.0', 'Movie': 'The Godfather: Part II', 'Year': '1974'}, {'IMDb Rating': '8.9', 'Movie': 'The Dark Knight', 'Year': '2008'}, {'IMDb Rating': '8.9', 'Movie': \"Schindler's List\", 'Year': '1993'}, {'IMDb Rating': '8.9', 'Movie': '12 Angry Men', 'Year': '1957'}, {'IMDb Rating': '8.9', 'Movie': 'Pulp Fiction', 'Year': '1994'}, {'IMDb Rating': '8.9', 'Movie': 'The Lord of the Rings: The Return of the King', 'Year': '2003'}, {'IMDb Rating': '8.9', 'Movie': 'Il buono, il brutto, il cattivo', 'Year': '1966'}, {'IMDb Rating': '8.8', 'Movie': 'Fight Club', 'Year': '1999'}, {'IMDb Rating': '8.8', 'Movie': 'The Lord of the Rings: The Fellowship of the Ring', 'Year': '2001'}, {'IMDb Rating': '8.7', 'Movie': 'Star Wars: Episode V - The Empire Strikes Back', 'Year': '1980'}, {'IMDb Rating': '8.7', 'Movie': 'Forrest Gump', 'Year': '1994'}, {'IMDb Rating': '8.7', 'Movie': 'Inception', 'Year': '2010'}, {'IMDb Rating': '8.7', 'Movie': 'The Lord of the Rings: The Two Towers', 'Year': '2002'}, {'IMDb Rating': '8.7', 'Movie': \"One Flew Over the Cuckoo's Nest\", 'Year': '1975'}, {'IMDb Rating': '8.7', 'Movie': 'Goodfellas', 'Year': '1990'}, {'IMDb Rating': '8.7', 'Movie': 'The Matrix', 'Year': '1999'}, {'IMDb Rating': '8.6', 'Movie': 'Shichinin no samurai', 'Year': '1954'}, {'IMDb Rating': '8.6', 'Movie': 'Star Wars', 'Year': '1977'}, {'IMDb Rating': '8.6', 'Movie': 'City of God', 'Year': '2002'}, {'IMDb Rating': '8.6', 'Movie': 'Se7en', 'Year': '1995'}, {'IMDb Rating': '8.6', 'Movie': 'The Silence of the Lambs', 'Year': '1991'}, {'IMDb Rating': '8.6', 'Movie': \"It's a Wonderful Life\", 'Year': '1946'}, {'IMDb Rating': '8.6', 'Movie': 'The Usual Suspects', 'Year': '1995'}, {'IMDb Rating': '8.6', 'Movie': 'La vita è bella', 'Year': '1997'}, {'IMDb Rating': '8.6', 'Movie': 'Léon', 'Year': '1994'}, {'IMDb Rating': '8.5', 'Movie': 'Once Upon a Time in the West', 'Year': '1968'}, {'IMDb Rating': '8.5', 'Movie': 'Sen to Chihiro no kamikakushi', 'Year': '2001'}, {'IMDb Rating': '8.5', 'Movie': 'Saving Private Ryan', 'Year': '1998'}, {'IMDb Rating': '8.5', 'Movie': 'American History X', 'Year': '1998'}, {'IMDb Rating': '8.5', 'Movie': 'Interstellar', 'Year': '2014'}, {'IMDb Rating': '8.5', 'Movie': 'Casablanca', 'Year': '1942'}, {'IMDb Rating': '8.5', 'Movie': 'Psycho', 'Year': '1960'}, {'IMDb Rating': '8.5', 'Movie': 'City Lights', 'Year': '1931'}, {'IMDb Rating': '8.5', 'Movie': 'Raiders of the Lost Ark', 'Year': '1981'}, {'IMDb Rating': '8.5', 'Movie': 'The Intouchables', 'Year': '2011'}, {'IMDb Rating': '8.5', 'Movie': 'Modern Times', 'Year': '1936'}, {'IMDb Rating': '8.5', 'Movie': 'Rear Window', 'Year': '1954'}, {'IMDb Rating': '8.5', 'Movie': 'The Green Mile', 'Year': '1999'}, {'IMDb Rating': '8.5', 'Movie': 'Terminator 2: Judgment Day', 'Year': '1991'}, {'IMDb Rating': '8.5', 'Movie': 'The Departed', 'Year': '2006'}, {'IMDb Rating': '8.5', 'Movie': 'The Pianist', 'Year': '2002'}, {'IMDb Rating': '8.5', 'Movie': 'Back to the Future', 'Year': '1985'}, {'IMDb Rating': '8.5', 'Movie': 'Whiplash', 'Year': '2014'}, {'IMDb Rating': '8.5', 'Movie': 'Gladiator', 'Year': '2000'}, {'IMDb Rating': '8.5', 'Movie': 'Memento', 'Year': '2000'}, {'IMDb Rating': '8.5', 'Movie': 'Apocalypse Now', 'Year': '1979'}, {'IMDb Rating': '8.5', 'Movie': 'The Prestige', 'Year': '2006'}, {'IMDb Rating': '8.4', 'Movie': 'The Lion King', 'Year': '1994'}, {'IMDb Rating': '8.4', 'Movie': 'Dr. Strangelove or: How I Learned to Stop Worrying and Love the Bomb', 'Year': '1964'}, {'IMDb Rating': '8.4', 'Movie': 'Sunset Blvd.', 'Year': '1950'}, {'IMDb Rating': '8.4', 'Movie': 'Alien', 'Year': '1979'}, {'IMDb Rating': '8.4', 'Movie': 'The Great Dictator', 'Year': '1940'}, {'IMDb Rating': '8.4', 'Movie': 'The Lives of Others', 'Year': '2006'}, {'IMDb Rating': '8.4', 'Movie': 'Nuovo Cinema Paradiso', 'Year': '1988'}, {'IMDb Rating': '8.4', 'Movie': 'Django Unchained', 'Year': '2012'}, {'IMDb Rating': '8.4', 'Movie': 'Paths of Glory', 'Year': '1957'}, {'IMDb Rating': '8.4', 'Movie': 'The Shining', 'Year': '1980'}, {'IMDb Rating': '8.4', 'Movie': 'Hotaru no haka', 'Year': '1988'}, {'IMDb Rating': '8.4', 'Movie': 'WALL·E', 'Year': '2008'}, {'IMDb Rating': '8.4', 'Movie': 'The Dark Knight Rises', 'Year': '2012'}, {'IMDb Rating': '8.4', 'Movie': 'American Beauty', 'Year': '1999'}, {'IMDb Rating': '8.4', 'Movie': 'Aliens', 'Year': '1986'}, {'IMDb Rating': '8.4', 'Movie': 'Mononoke-hime', 'Year': '1997'}, {'IMDb Rating': '8.4', 'Movie': 'Oldeuboi', 'Year': '2003'}, {'IMDb Rating': '8.4', 'Movie': 'Citizen Kane', 'Year': '1941'}, {'IMDb Rating': '8.4', 'Movie': 'Once Upon a Time in America', 'Year': '1984'}, {'IMDb Rating': '8.4', 'Movie': 'North by Northwest', 'Year': '1959'}, {'IMDb Rating': '8.4', 'Movie': 'Das Boot', 'Year': '1981'}, {'IMDb Rating': '8.3', 'Movie': 'Vertigo', 'Year': '1958'}, {'IMDb Rating': '8.3', 'Movie': 'Witness for the Prosecution', 'Year': '1957'}, {'IMDb Rating': '8.3', 'Movie': 'Star Wars: Episode VI - Return of the Jedi', 'Year': '1983'}, {'IMDb Rating': '8.3', 'Movie': 'M', 'Year': '1931'}, {'IMDb Rating': '8.3', 'Movie': 'Reservoir Dogs', 'Year': '1992'}, {'IMDb Rating': '8.3', 'Movie': 'Amélie', 'Year': '2001'}, {'IMDb Rating': '8.3', 'Movie': 'Braveheart', 'Year': '1995'}, {'IMDb Rating': '8.3', 'Movie': 'Requiem for a Dream', 'Year': '2000'}, {'IMDb Rating': '8.3', 'Movie': 'A Clockwork Orange', 'Year': '1971'}, {'IMDb Rating': '8.3', 'Movie': 'Taxi Driver', 'Year': '1976'}, {'IMDb Rating': '8.3', 'Movie': 'Double Indemnity', 'Year': '1944'}, {'IMDb Rating': '8.3', 'Movie': 'Toy Story 3', 'Year': '2010'}, {'IMDb Rating': '8.3', 'Movie': 'Lawrence of Arabia', 'Year': '1962'}, {'IMDb Rating': '8.3', 'Movie': 'To Kill a Mockingbird', 'Year': '1962'}, {'IMDb Rating': '8.3', 'Movie': 'Eternal Sunshine of the Spotless Mind', 'Year': '2004'}, {'IMDb Rating': '8.3', 'Movie': 'Full Metal Jacket', 'Year': '1987'}, {'IMDb Rating': '8.3', 'Movie': 'Amadeus', 'Year': '1984'}, {'IMDb Rating': '8.3', 'Movie': 'The Sting', 'Year': '1973'}, {'IMDb Rating': '8.3', 'Movie': '2001: A Space Odyssey', 'Year': '1968'}, {'IMDb Rating': '8.3', 'Movie': 'Ladri di biciclette', 'Year': '1948'}, {'IMDb Rating': '8.3', 'Movie': \"Singin' in the Rain\", 'Year': '1952'}, {'IMDb Rating': '8.3', 'Movie': 'Snatch.', 'Year': '2000'}, {'IMDb Rating': '8.3', 'Movie': 'Toy Story', 'Year': '1995'}, {'IMDb Rating': '8.3', 'Movie': 'Monty Python and the Holy Grail', 'Year': '1975'}, {'IMDb Rating': '8.3', 'Movie': 'Inglourious Basterds', 'Year': '2009'}, {'IMDb Rating': '8.3', 'Movie': 'The Kid', 'Year': '1921'}, {'IMDb Rating': '8.3', 'Movie': 'L.A. Confidential', 'Year': '1997'}, {'IMDb Rating': '8.3', 'Movie': 'Per qualche dollaro in più', 'Year': '1965'}, {'IMDb Rating': '8.3', 'Movie': 'The Apartment', 'Year': '1960'}, {'IMDb Rating': '8.3', 'Movie': 'Rashômon', 'Year': '1950'}, {'IMDb Rating': '8.3', 'Movie': 'Indiana Jones and the Last Crusade', 'Year': '1989'}, {'IMDb Rating': '8.3', 'Movie': 'Scarface', 'Year': '1983'}, {'IMDb Rating': '8.3', 'Movie': 'Jodaeiye Nader az Simin', 'Year': '2011'}, {'IMDb Rating': '8.2', 'Movie': 'Metropolis', 'Year': '1927'}, {'IMDb Rating': '8.2', 'Movie': 'All About Eve', 'Year': '1950'}, {'IMDb Rating': '8.2', 'Movie': 'Yôjinbô', 'Year': '1961'}, {'IMDb Rating': '8.2', 'Movie': 'Jagten', 'Year': '2012'}, {'IMDb Rating': '8.2', 'Movie': '3 Idiots', 'Year': '2009'}, {'IMDb Rating': '8.2', 'Movie': 'Batman Begins', 'Year': '2005'}, {'IMDb Rating': '8.2', 'Movie': 'The Treasure of the Sierra Madre', 'Year': '1948'}, {'IMDb Rating': '8.2', 'Movie': 'Some Like It Hot', 'Year': '1959'}, {'IMDb Rating': '8.2', 'Movie': 'Good Will Hunting', 'Year': '1997'}, {'IMDb Rating': '8.2', 'Movie': 'Up', 'Year': '2009'}, {'IMDb Rating': '8.2', 'Movie': 'Unforgiven', 'Year': '1992'}, {'IMDb Rating': '8.2', 'Movie': 'Bacheha-Ye aseman', 'Year': '1997'}, {'IMDb Rating': '8.2', 'Movie': 'The Third Man', 'Year': '1949'}, {'IMDb Rating': '8.2', 'Movie': 'Raging Bull', 'Year': '1980'}, {'IMDb Rating': '8.2', 'Movie': 'Der Untergang', 'Year': '2004'}, {'IMDb Rating': '8.2', 'Movie': 'Inside Out', 'Year': '2015'}, {'IMDb Rating': '8.2', 'Movie': 'Die Hard', 'Year': '1988'}, {'IMDb Rating': '8.2', 'Movie': 'The Great Escape', 'Year': '1963'}, {'IMDb Rating': '8.2', 'Movie': 'Chinatown', 'Year': '1974'}, {'IMDb Rating': '8.2', 'Movie': 'Heat', 'Year': '1995'}, {'IMDb Rating': '8.2', 'Movie': 'Room', 'Year': '2015'}, {'IMDb Rating': '8.2', 'Movie': \"Pan's Labyrinth\", 'Year': '2006'}, {'IMDb Rating': '8.2', 'Movie': 'On the Waterfront', 'Year': '1954'}, {'IMDb Rating': '8.2', 'Movie': 'Tonari no Totoro', 'Year': '1988'}, {'IMDb Rating': '8.2', 'Movie': 'Ikiru', 'Year': '1952'}, {'IMDb Rating': '8.2', 'Movie': 'Ran', 'Year': '1985'}, {'IMDb Rating': '8.2', 'Movie': 'Mr. Smith Goes to Washington', 'Year': '1939'}, {'IMDb Rating': '8.2', 'Movie': 'The Gold Rush', 'Year': '1925'}, {'IMDb Rating': '8.2', 'Movie': 'The Bridge on the River Kwai', 'Year': '1957'}, {'IMDb Rating': '8.2', 'Movie': 'El secreto de sus ojos', 'Year': '2009'}, {'IMDb Rating': '8.2', 'Movie': 'Det sjunde inseglet', 'Year': '1957'}, {'IMDb Rating': '8.2', 'Movie': 'Blade Runner', 'Year': '1982'}, {'IMDb Rating': '8.2', 'Movie': 'Sunrise: A Song of Two Humans', 'Year': '1927'}, {'IMDb Rating': '8.2', 'Movie': 'Lock, Stock and Two Smoking Barrels', 'Year': '1998'}, {'IMDb Rating': '8.2', 'Movie': 'Star Wars: Episode VII - The Force Awakens', 'Year': '2015'}, {'IMDb Rating': '8.2', 'Movie': 'Hauru no ugoku shiro', 'Year': '2004'}, {'IMDb Rating': '8.2', 'Movie': 'Casino', 'Year': '1995'}, {'IMDb Rating': '8.2', 'Movie': 'The General', 'Year': '1926'}, {'IMDb Rating': '8.2', 'Movie': 'Smultronstället', 'Year': '1957'}, {'IMDb Rating': '8.2', 'Movie': 'The Elephant Man', 'Year': '1980'}, {'IMDb Rating': '8.2', 'Movie': 'Tôkyô monogatari', 'Year': '1953'}, {'IMDb Rating': '8.2', 'Movie': 'Warrior', 'Year': '2011'}, {'IMDb Rating': '8.2', 'Movie': 'The Wolf of Wall Street', 'Year': '2013'}, {'IMDb Rating': '8.2', 'Movie': 'Captain America: Civil War', 'Year': '2016'}, {'IMDb Rating': '8.2', 'Movie': 'A Beautiful Mind', 'Year': '2001'}, {'IMDb Rating': '8.2', 'Movie': 'Judgment at Nuremberg', 'Year': '1961'}, {'IMDb Rating': '8.1', 'Movie': 'V for Vendetta', 'Year': '2005'}, {'IMDb Rating': '8.1', 'Movie': 'The Message', 'Year': '1976'}, {'IMDb Rating': '8.1', 'Movie': 'Gran Torino', 'Year': '2008'}, {'IMDb Rating': '8.1', 'Movie': 'Incendies', 'Year': '2010'}, {'IMDb Rating': '8.1', 'Movie': 'The Big Lebowski', 'Year': '1998'}, {'IMDb Rating': '8.1', 'Movie': 'The Deer Hunter', 'Year': '1978'}, {'IMDb Rating': '8.1', 'Movie': 'Rebecca', 'Year': '1940'}, {'IMDb Rating': '8.1', 'Movie': 'Trainspotting', 'Year': '1996'}, {'IMDb Rating': '8.1', 'Movie': 'Fargo', 'Year': '1996'}, {'IMDb Rating': '8.1', 'Movie': 'Gone with the Wind', 'Year': '1939'}, {'IMDb Rating': '8.1', 'Movie': 'Dial M for Murder', 'Year': '1954'}, {'IMDb Rating': '8.1', 'Movie': 'Cool Hand Luke', 'Year': '1967'}, {'IMDb Rating': '8.1', 'Movie': 'How to Train Your Dragon', 'Year': '2010'}, {'IMDb Rating': '8.1', 'Movie': 'The Sixth Sense', 'Year': '1999'}, {'IMDb Rating': '8.1', 'Movie': 'Finding Nemo', 'Year': '2003'}, {'IMDb Rating': '8.1', 'Movie': 'The Thing', 'Year': '1982'}, {'IMDb Rating': '8.1', 'Movie': 'No Country for Old Men', 'Year': '2007'}, {'IMDb Rating': '8.1', 'Movie': 'Into the Wild', 'Year': '2007'}, {'IMDb Rating': '8.1', 'Movie': 'Zootopia', 'Year': '2016'}, {'IMDb Rating': '8.1', 'Movie': 'Mary and Max', 'Year': '2009'}, {'IMDb Rating': '8.1', 'Movie': 'Gone Girl', 'Year': '2014'}, {'IMDb Rating': '8.1', 'Movie': 'Kill Bill: Vol. 1', 'Year': '2003'}, {'IMDb Rating': '8.1', 'Movie': 'It Happened One Night', 'Year': '1934'}, {'IMDb Rating': '8.1', 'Movie': 'Le notti di Cabiria', 'Year': '1957'}, {'IMDb Rating': '8.1', 'Movie': 'Rush', 'Year': '2013'}, {'IMDb Rating': '8.1', 'Movie': 'Life of Brian', 'Year': '1979'}, {'IMDb Rating': '8.1', 'Movie': 'There Will Be Blood', 'Year': '2007'}, {'IMDb Rating': '8.1', 'Movie': 'Hotel Rwanda', 'Year': '2004'}, {'IMDb Rating': '8.1', 'Movie': 'Platoon', 'Year': '1986'}, {'IMDb Rating': '8.1', 'Movie': 'The Maltese Falcon', 'Year': '1941'}, {'IMDb Rating': '8.1', 'Movie': 'Mad Max: Fury Road', 'Year': '2015'}, {'IMDb Rating': '8.1', 'Movie': 'Le salaire de la peur', 'Year': '1953'}, {'IMDb Rating': '8.1', 'Movie': 'Spotlight', 'Year': '2015'}, {'IMDb Rating': '8.1', 'Movie': 'Network', 'Year': '1976'}, {'IMDb Rating': '8.1', 'Movie': 'Butch Cassidy and the Sundance Kid', 'Year': '1969'}, {'IMDb Rating': '8.1', 'Movie': 'Shutter Island', 'Year': '2010'}, {'IMDb Rating': '8.1', 'Movie': 'Les quatre cents coups', 'Year': '1959'}, {'IMDb Rating': '8.1', 'Movie': 'Stand by Me', 'Year': '1986'}, {'IMDb Rating': '8.1', 'Movie': 'In the Name of the Father', 'Year': '1993'}, {'IMDb Rating': '8.1', 'Movie': '12 Years a Slave', 'Year': '2013'}, {'IMDb Rating': '8.1', 'Movie': 'Persona', 'Year': '1966'}, {'IMDb Rating': '8.1', 'Movie': 'The Grand Budapest Hotel', 'Year': '2014'}, {'IMDb Rating': '8.1', 'Movie': 'Amores perros', 'Year': '2000'}, {'IMDb Rating': '8.1', 'Movie': 'Deadpool', 'Year': '2016'}, {'IMDb Rating': '8.1', 'Movie': 'Million Dollar Baby', 'Year': '2004'}, {'IMDb Rating': '8.1', 'Movie': 'The Princess Bride', 'Year': '1987'}, {'IMDb Rating': '8.1', 'Movie': 'Ben-Hur', 'Year': '1959'}, {'IMDb Rating': '8.1', 'Movie': 'Relatos salvajes', 'Year': '2014'}, {'IMDb Rating': '8.1', 'Movie': 'Touch of Evil', 'Year': '1958'}, {'IMDb Rating': '8.1', 'Movie': \"Hachi: A Dog's Tale\", 'Year': '2009'}, {'IMDb Rating': '8.1', 'Movie': 'Annie Hall', 'Year': '1977'}, {'IMDb Rating': '8.1', 'Movie': 'Kaze no tani no Naushika', 'Year': '1984'}, {'IMDb Rating': '8.1', 'Movie': 'The Grapes of Wrath', 'Year': '1940'}, {'IMDb Rating': '8.1', 'Movie': 'Jurassic Park', 'Year': '1993'}, {'IMDb Rating': '8.1', 'Movie': 'Stalker', 'Year': '1979'}, {'IMDb Rating': '8.0', 'Movie': 'The Revenant', 'Year': '2015'}, {'IMDb Rating': '8.0', 'Movie': 'Gandhi', 'Year': '1982'}, {'IMDb Rating': '8.0', 'Movie': 'Before Sunrise', 'Year': '1995'}, {'IMDb Rating': '8.0', 'Movie': 'Les diaboliques', 'Year': '1955'}, {'IMDb Rating': '8.0', 'Movie': 'The Bourne Ultimatum', 'Year': '2007'}, {'IMDb Rating': '8.0', 'Movie': 'The Truman Show', 'Year': '1998'}, {'IMDb Rating': '8.0', 'Movie': 'Donnie Darko', 'Year': '2001'}, {'IMDb Rating': '8.0', 'Movie': 'Salinui chueok', 'Year': '2003'}, {'IMDb Rating': '8.0', 'Movie': '8½', 'Year': '1963'}, {'IMDb Rating': '8.0', 'Movie': 'Rocky', 'Year': '1976'}, {'IMDb Rating': '8.0', 'Movie': 'The Wizard of Oz', 'Year': '1939'}, {'IMDb Rating': '8.0', 'Movie': 'Monsters, Inc.', 'Year': '2001'}, {'IMDb Rating': '8.0', 'Movie': 'The Terminator', 'Year': '1984'}, {'IMDb Rating': '8.0', 'Movie': 'Harry Potter and the Deathly Hallows: Part 2', 'Year': '2011'}, {'IMDb Rating': '8.0', 'Movie': 'Twelve Monkeys', 'Year': '1995'}, {'IMDb Rating': '8.0', 'Movie': 'The Best Years of Our Lives', 'Year': '1946'}, {'IMDb Rating': '8.0', 'Movie': 'Groundhog Day', 'Year': '1993'}, {'IMDb Rating': '8.0', 'Movie': 'Kind Hearts and Coronets', 'Year': '1949'}, {'IMDb Rating': '8.0', 'Movie': 'Sin City', 'Year': '2005'}, {'IMDb Rating': '8.0', 'Movie': 'Strangers on a Train', 'Year': '1951'}, {'IMDb Rating': '8.0', 'Movie': 'Mou gaan dou', 'Year': '2002'}, {'IMDb Rating': '8.0', 'Movie': 'Jaws', 'Year': '1975'}, {'IMDb Rating': '8.0', 'Movie': 'La haine', 'Year': '1995'}, {'IMDb Rating': '8.0', 'Movie': 'Barry Lyndon', 'Year': '1975'}, {'IMDb Rating': '8.0', 'Movie': 'Prisoners', 'Year': '2013'}, {'IMDb Rating': '8.0', 'Movie': 'La battaglia di Algeri', 'Year': '1966'}, {'IMDb Rating': '8.0', 'Movie': 'Dog Day Afternoon', 'Year': '1975'}, {'IMDb Rating': '8.0', 'Movie': 'The Martian', 'Year': '2015'}, {'IMDb Rating': '8.0', 'Movie': 'Yip Man', 'Year': '2008'}, {'IMDb Rating': '8.0', 'Movie': 'Catch Me If You Can', 'Year': '2002'}, {'IMDb Rating': '8.0', 'Movie': 'The Imitation Game', 'Year': '2014'}, {'IMDb Rating': '8.0', 'Movie': 'Pirates of the Caribbean: The Curse of the Black Pearl', 'Year': '2003'}, {'IMDb Rating': '8.0', 'Movie': 'Fanny och Alexander', 'Year': '1982'}, {'IMDb Rating': '8.0', 'Movie': 'The Avengers', 'Year': '2012'}, {'IMDb Rating': '8.0', 'Movie': 'The Help', 'Year': '2011'}, {'IMDb Rating': '8.0', 'Movie': 'Guardians of the Galaxy', 'Year': '2014'}, {'IMDb Rating': '8.0', 'Movie': 'Per un pugno di dollari', 'Year': '1964'}, {'IMDb Rating': '8.0', 'Movie': \"The King's Speech\", 'Year': '2010'}, {'IMDb Rating': '8.0', 'Movie': 'Tenkû no shiro Rapyuta', 'Year': '1986'}, {'IMDb Rating': '8.0', 'Movie': 'Roman Holiday', 'Year': '1953'}, {'IMDb Rating': '8.0', 'Movie': 'High Noon', 'Year': '1952'}, {'IMDb Rating': '8.0', 'Movie': 'Kumonosu-jô', 'Year': '1957'}, {'IMDb Rating': '8.0', 'Movie': 'Beauty and the Beast', 'Year': '1991'}, {'IMDb Rating': '8.0', 'Movie': 'Lagaan: Once Upon a Time in India', 'Year': '2001'}, {'IMDb Rating': '8.0', 'Movie': 'Faa yeung nin wa', 'Year': '2000'}, {'IMDb Rating': '8.0', 'Movie': 'Gangs of Wasseypur', 'Year': '2012'}]\n"
     ]
    }
   ],
   "source": [
    "data_set=[]\n",
    "for tr in table1:\n",
    "    \n",
    "    mov = tr.find('td',attrs={'class:','titleColumn'}).find('a').text\n",
    "    yr = tr.find('span',attrs={'class':'secondaryInfo'}).text.replace(\"(\",\"\").replace(\")\",\"\")\n",
    "    imdb = tr.find('strong').text\n",
    "    \n",
    "    data={}\n",
    "    \n",
    "    data['Movie']=mov\n",
    "    data['Year']=yr\n",
    "    data['IMDb Rating']=imdb\n",
    "    data_set.append(data)\n",
    "\n",
    "print(data_set)  "
   ]
  },
  {
   "cell_type": "code",
   "execution_count": null,
   "metadata": {
    "collapsed": false
   },
   "outputs": [],
   "source": []
  }
 ],
 "metadata": {
  "kernelspec": {
   "display_name": "Python 3",
   "language": "python",
   "name": "python3"
  },
  "language_info": {
   "codemirror_mode": {
    "name": "ipython",
    "version": 3
   },
   "file_extension": ".py",
   "mimetype": "text/x-python",
   "name": "python",
   "nbconvert_exporter": "python",
   "pygments_lexer": "ipython3",
   "version": "3.5.1"
  }
 },
 "nbformat": 4,
 "nbformat_minor": 0
}
